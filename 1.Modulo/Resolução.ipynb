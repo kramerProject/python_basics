{
 "cells": [
  {
   "cell_type": "markdown",
   "id": "46369ada",
   "metadata": {},
   "source": [
    "# Resolução Modulo 1"
   ]
  },
  {
   "cell_type": "markdown",
   "id": "24598b0f",
   "metadata": {},
   "source": [
    "1. Faça um programa que peça um valor monetário e diminua-o em 15%. Seu\n",
    "programa deve imprimir a mensagem “O novo valor é [valor]”."
   ]
  },
  {
   "cell_type": "code",
   "execution_count": 2,
   "id": "2c95c076",
   "metadata": {},
   "outputs": [
    {
     "name": "stdout",
     "output_type": "stream",
     "text": [
      "Please insert a monetary value: 10\n",
      "The new value is 10\n"
     ]
    }
   ],
   "source": [
    "value = input(\"Please insert a monetary value: \")\n",
    "print(f\"The new value is {int(value)}\")"
   ]
  },
  {
   "cell_type": "markdown",
   "id": "a4fc0d2a",
   "metadata": {},
   "source": [
    "2. Faça um programa que leia a validade das informações:\n",
    "\n",
    "a. Idade: entre 0 e 150;\n",
    "b. Salário: maior que 0;\n",
    "c. Sexo: M, F ou Outro;\n",
    "\n",
    "O programa deve imprimir uma mensagem de erro para cada informação\n",
    "inválida."
   ]
  },
  {
   "cell_type": "code",
   "execution_count": 6,
   "id": "e2183f70",
   "metadata": {},
   "outputs": [
    {
     "name": "stdout",
     "output_type": "stream",
     "text": [
      "Age: 10\n",
      "Wage: 10\n",
      "Gender: M\n"
     ]
    }
   ],
   "source": [
    "age = int(input(\"Age: \"))\n",
    "wage = int(input(\"Wage: \"))\n",
    "gender = input(\"Gender: \")\n",
    "\n",
    "if age > 150 or age < 0:\n",
    "    print(f\"Age {age} is invalid\")\n",
    "if not wage > 0:\n",
    "    print(f\"Wage {wage} is invalid\")\n",
    "if gender not in [\"M\", \"F\", \"Outro\"]:\n",
    "    print(f\"Gender {gender} is invalid\")"
   ]
  },
  {
   "cell_type": "markdown",
   "id": "ec0bb452",
   "metadata": {},
   "source": [
    "3. Vamos fazer um programa para verificar quem é o assassino de um crime.\n",
    "Para descobrir o assassino, a polícia faz um pequeno questionário com 5\n",
    "perguntas onde a resposta só pode ser sim ou não:\n",
    "\n",
    "a. Mora perto da vítima?\n",
    "b. Já trabalhou com a vítima?\n",
    "c. Telefonou para a vítima?\n",
    "d. Esteve no local do crime?\n",
    "e. Devia para a vítima?\n",
    "\n",
    "Cada resposta sim dá um ponto para o suspeito. A polícia considera que os\n",
    "suspeitos com 5 pontos são os assassinos, com 4 a 3 pontos são cúmplices e\n",
    "2 pontos são apenas suspeitos, necessitando outras investigações. Valores\n",
    "iguais ou abaixo de 1 são liberados."
   ]
  },
  {
   "cell_type": "code",
   "execution_count": 11,
   "id": "410c3edf",
   "metadata": {},
   "outputs": [
    {
     "data": {
      "text/plain": [
       "'You are considered Cumplice because you have 4 points.'"
      ]
     },
     "execution_count": 11,
     "metadata": {},
     "output_type": "execute_result"
    }
   ],
   "source": [
    "outcomes = {\n",
    "    \"1\": \"Liberado\",\n",
    "    \"2\": \"Suspeito\",\n",
    "    \"3\": \"Cumplice\",\n",
    "    \"4\": \"Cumplice\",\n",
    "    \"5\": \"Assassino\"\n",
    "}\n",
    "def total_point(answers):\n",
    "    total = [1 for answer in answers if answer == \"sim\"]\n",
    "    return sum(total)\n",
    "points = total_point([\"não\", \"sim\", \"sim\", \"sim\", \"sim\"])\n",
    "outcome = outcomes[str(points)]\n",
    "f\"You are considered {outcome} because you have {points} points.\""
   ]
  },
  {
   "cell_type": "markdown",
   "id": "695f6952",
   "metadata": {},
   "source": [
    "4. Faça um programa que imprima a tabuada do 9 (de 9*1 a 9*10) usando loops."
   ]
  },
  {
   "cell_type": "code",
   "execution_count": 13,
   "id": "52666a06",
   "metadata": {},
   "outputs": [
    {
     "name": "stdout",
     "output_type": "stream",
     "text": [
      "9 x 1\n",
      "9 x 2\n",
      "9 x 3\n",
      "9 x 4\n",
      "9 x 5\n",
      "9 x 6\n",
      "9 x 7\n",
      "9 x 8\n",
      "9 x 9\n",
      "9 x 10\n"
     ]
    }
   ],
   "source": [
    "for i in range(1, 11):\n",
    "    print(f\"9 x {i}\")"
   ]
  },
  {
   "cell_type": "code",
   "execution_count": null,
   "id": "730bd5e8",
   "metadata": {},
   "outputs": [],
   "source": []
  }
 ],
 "metadata": {
  "kernelspec": {
   "display_name": "Python 3 (ipykernel)",
   "language": "python",
   "name": "python3"
  },
  "language_info": {
   "codemirror_mode": {
    "name": "ipython",
    "version": 3
   },
   "file_extension": ".py",
   "mimetype": "text/x-python",
   "name": "python",
   "nbconvert_exporter": "python",
   "pygments_lexer": "ipython3",
   "version": "3.9.2"
  }
 },
 "nbformat": 4,
 "nbformat_minor": 5
}
